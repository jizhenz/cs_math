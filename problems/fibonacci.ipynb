{
 "cells": [
  {
   "cell_type": "code",
   "execution_count": 1,
   "metadata": {
    "collapsed": true
   },
   "outputs": [],
   "source": [
    "# Fibonacci Sequence: \n",
    "#     0,1,1,2,3,5,8,13,21,... [use this version for implementation]\n",
    "#     or\n",
    "#     1,1,2,3,5,8,13,21,..."
   ]
  },
  {
   "cell_type": "code",
   "execution_count": 4,
   "metadata": {
    "collapsed": false
   },
   "outputs": [
    {
     "name": "stdout",
     "output_type": "stream",
     "text": [
      "0\n",
      "1\n",
      "1\n",
      "2\n",
      "3\n",
      "8\n",
      "13\n",
      "21\n",
      "34\n"
     ]
    },
    {
     "ename": "AssertionError",
     "evalue": "Fibonacci not defined for n < 0.",
     "output_type": "error",
     "traceback": [
      "\u001b[1;31m---------------------------------------------------------------------------\u001b[0m",
      "\u001b[1;31mAssertionError\u001b[0m                            Traceback (most recent call last)",
      "\u001b[1;32m<ipython-input-4-e7d4bcc28590>\u001b[0m in \u001b[0;36m<module>\u001b[1;34m()\u001b[0m\n\u001b[0;32m     18\u001b[0m \u001b[1;32mprint\u001b[0m \u001b[0mfib1\u001b[0m\u001b[1;33m(\u001b[0m\u001b[1;36m8\u001b[0m\u001b[1;33m)\u001b[0m\u001b[1;33m\u001b[0m\u001b[0m\n\u001b[0;32m     19\u001b[0m \u001b[1;32mprint\u001b[0m \u001b[0mfib1\u001b[0m\u001b[1;33m(\u001b[0m\u001b[1;36m9\u001b[0m\u001b[1;33m)\u001b[0m\u001b[1;33m\u001b[0m\u001b[0m\n\u001b[1;32m---> 20\u001b[1;33m \u001b[1;32mprint\u001b[0m \u001b[0mfib1\u001b[0m\u001b[1;33m(\u001b[0m\u001b[1;33m-\u001b[0m\u001b[1;36m1\u001b[0m\u001b[1;33m)\u001b[0m\u001b[1;33m\u001b[0m\u001b[0m\n\u001b[0m",
      "\u001b[1;32m<ipython-input-4-e7d4bcc28590>\u001b[0m in \u001b[0;36mfib1\u001b[1;34m(n)\u001b[0m\n\u001b[0;32m      3\u001b[0m     \u001b[0mrecursive\u001b[0m \u001b[0mversion\u001b[0m\u001b[1;33m\u001b[0m\u001b[0m\n\u001b[0;32m      4\u001b[0m     \"\"\"\n\u001b[1;32m----> 5\u001b[1;33m     \u001b[1;32massert\u001b[0m  \u001b[0mn\u001b[0m \u001b[1;33m>=\u001b[0m \u001b[1;36m0\u001b[0m\u001b[1;33m,\u001b[0m \u001b[1;34m\"Fibonacci not defined for n < 0.\"\u001b[0m\u001b[1;33m\u001b[0m\u001b[0m\n\u001b[0m\u001b[0;32m      6\u001b[0m     \u001b[1;32mif\u001b[0m \u001b[0mn\u001b[0m\u001b[1;33m==\u001b[0m\u001b[1;36m0\u001b[0m \u001b[1;32mor\u001b[0m \u001b[0mn\u001b[0m\u001b[1;33m==\u001b[0m\u001b[1;36m1\u001b[0m\u001b[1;33m:\u001b[0m\u001b[1;33m\u001b[0m\u001b[0m\n\u001b[0;32m      7\u001b[0m         \u001b[1;32mreturn\u001b[0m \u001b[0mn\u001b[0m\u001b[1;33m\u001b[0m\u001b[0m\n",
      "\u001b[1;31mAssertionError\u001b[0m: Fibonacci not defined for n < 0."
     ]
    }
   ],
   "source": [
    "def fib1(n):\n",
    "    \"\"\"\n",
    "    recursive version\n",
    "    \"\"\"\n",
    "    assert  n >= 0, \"Fibonacci not defined for n < 0.\"\n",
    "    if n==0 or n==1:\n",
    "        return n\n",
    "    else:\n",
    "        return fib1(n-2) + fib1(n-1)\n",
    "    \n",
    "print fib1(0)\n",
    "print fib1(1)\n",
    "print fib1(2)\n",
    "print fib1(3)\n",
    "print fib1(4)\n",
    "print fib1(6)\n",
    "print fib1(7)\n",
    "print fib1(8)\n",
    "print fib1(9)\n",
    "print fib1(-1)\n"
   ]
  },
  {
   "cell_type": "code",
   "execution_count": 5,
   "metadata": {
    "collapsed": false
   },
   "outputs": [
    {
     "name": "stdout",
     "output_type": "stream",
     "text": [
      "0\n",
      "1\n",
      "1\n",
      "2\n",
      "3\n",
      "8\n",
      "13\n",
      "21\n",
      "34\n"
     ]
    },
    {
     "ename": "AssertionError",
     "evalue": "Fibonacci not defined for n < 0.",
     "output_type": "error",
     "traceback": [
      "\u001b[1;31m---------------------------------------------------------------------------\u001b[0m",
      "\u001b[1;31mAssertionError\u001b[0m                            Traceback (most recent call last)",
      "\u001b[1;32m<ipython-input-5-75df456327e3>\u001b[0m in \u001b[0;36m<module>\u001b[1;34m()\u001b[0m\n\u001b[0;32m     23\u001b[0m \u001b[1;32mprint\u001b[0m \u001b[0mfib2\u001b[0m\u001b[1;33m(\u001b[0m\u001b[1;36m8\u001b[0m\u001b[1;33m)\u001b[0m\u001b[1;33m\u001b[0m\u001b[0m\n\u001b[0;32m     24\u001b[0m \u001b[1;32mprint\u001b[0m \u001b[0mfib2\u001b[0m\u001b[1;33m(\u001b[0m\u001b[1;36m9\u001b[0m\u001b[1;33m)\u001b[0m\u001b[1;33m\u001b[0m\u001b[0m\n\u001b[1;32m---> 25\u001b[1;33m \u001b[1;32mprint\u001b[0m \u001b[0mfib2\u001b[0m\u001b[1;33m(\u001b[0m\u001b[1;33m-\u001b[0m\u001b[1;36m1\u001b[0m\u001b[1;33m)\u001b[0m\u001b[1;33m\u001b[0m\u001b[0m\n\u001b[0m",
      "\u001b[1;32m<ipython-input-5-75df456327e3>\u001b[0m in \u001b[0;36mfib2\u001b[1;34m(n)\u001b[0m\n\u001b[0;32m      3\u001b[0m     \u001b[0mrecursive\u001b[0m \u001b[0mversion\u001b[0m\u001b[1;33m\u001b[0m\u001b[0m\n\u001b[0;32m      4\u001b[0m     \"\"\"\n\u001b[1;32m----> 5\u001b[1;33m     \u001b[1;32massert\u001b[0m  \u001b[0mn\u001b[0m \u001b[1;33m>=\u001b[0m \u001b[1;36m0\u001b[0m\u001b[1;33m,\u001b[0m \u001b[1;34m\"Fibonacci not defined for n < 0.\"\u001b[0m\u001b[1;33m\u001b[0m\u001b[0m\n\u001b[0m\u001b[0;32m      6\u001b[0m     \u001b[1;32mif\u001b[0m \u001b[0mn\u001b[0m\u001b[1;33m==\u001b[0m\u001b[1;36m0\u001b[0m \u001b[1;32mor\u001b[0m \u001b[0mn\u001b[0m\u001b[1;33m==\u001b[0m\u001b[1;36m1\u001b[0m\u001b[1;33m:\u001b[0m\u001b[1;33m\u001b[0m\u001b[0m\n\u001b[0;32m      7\u001b[0m         \u001b[1;32mreturn\u001b[0m \u001b[0mn\u001b[0m\u001b[1;33m\u001b[0m\u001b[0m\n",
      "\u001b[1;31mAssertionError\u001b[0m: Fibonacci not defined for n < 0."
     ]
    }
   ],
   "source": [
    "def fib2(n):\n",
    "    \"\"\"\n",
    "    dynamic programming version\n",
    "    \"\"\"\n",
    "    assert  n >= 0, \"Fibonacci not defined for n < 0.\"\n",
    "    if n==0 or n==1:\n",
    "        return n\n",
    "    else:\n",
    "        tmp_array = [0] * (n+1)\n",
    "        tmp_array[0] = 0\n",
    "        tmp_array[1] = 1\n",
    "        for i in range(2,n+1):\n",
    "            tmp_array[i] = tmp_array[i-1] + tmp_array[i-2]\n",
    "        return tmp_array[n]\n",
    "    \n",
    "print fib2(0)\n",
    "print fib2(1)\n",
    "print fib2(2)\n",
    "print fib2(3)\n",
    "print fib2(4)\n",
    "print fib2(6)\n",
    "print fib2(7)\n",
    "print fib2(8)\n",
    "print fib2(9)\n",
    "print fib2(-1)"
   ]
  },
  {
   "cell_type": "code",
   "execution_count": 16,
   "metadata": {
    "collapsed": false
   },
   "outputs": [
    {
     "name": "stdout",
     "output_type": "stream",
     "text": [
      "0\n",
      "1\n",
      "1\n",
      "2\n",
      "3\n",
      "8\n",
      "13\n",
      "21\n",
      "34\n",
      "218922995834555169026\n",
      "573147844013817084101\n"
     ]
    },
    {
     "ename": "AssertionError",
     "evalue": "Fibonacci not defined for n < 0.",
     "output_type": "error",
     "traceback": [
      "\u001b[1;31m---------------------------------------------------------------------------\u001b[0m",
      "\u001b[1;31mAssertionError\u001b[0m                            Traceback (most recent call last)",
      "\u001b[1;32m<ipython-input-16-04359a2aadde>\u001b[0m in \u001b[0;36m<module>\u001b[1;34m()\u001b[0m\n\u001b[0;32m     39\u001b[0m \u001b[1;32mprint\u001b[0m \u001b[0mFib\u001b[0m\u001b[1;33m.\u001b[0m\u001b[0mfib3\u001b[0m\u001b[1;33m(\u001b[0m\u001b[1;36m99\u001b[0m\u001b[1;33m)\u001b[0m\u001b[1;33m\u001b[0m\u001b[0m\n\u001b[0;32m     40\u001b[0m \u001b[1;32mprint\u001b[0m \u001b[0mFib\u001b[0m\u001b[1;33m.\u001b[0m\u001b[0mfib3\u001b[0m\u001b[1;33m(\u001b[0m\u001b[1;36m101\u001b[0m\u001b[1;33m)\u001b[0m\u001b[1;33m\u001b[0m\u001b[0m\n\u001b[1;32m---> 41\u001b[1;33m \u001b[1;32mprint\u001b[0m \u001b[0mFib\u001b[0m\u001b[1;33m.\u001b[0m\u001b[0mfib3\u001b[0m\u001b[1;33m(\u001b[0m\u001b[1;33m-\u001b[0m\u001b[1;36m1\u001b[0m\u001b[1;33m)\u001b[0m\u001b[1;33m\u001b[0m\u001b[0m\n\u001b[0m\u001b[0;32m     42\u001b[0m \u001b[1;33m\u001b[0m\u001b[0m\n",
      "\u001b[1;32m<ipython-input-16-04359a2aadde>\u001b[0m in \u001b[0;36mfib3\u001b[1;34m(n)\u001b[0m\n\u001b[0;32m     13\u001b[0m         \u001b[0mdynamic\u001b[0m \u001b[0mprogramming\u001b[0m \u001b[0mversion\u001b[0m \u001b[1;32mwith\u001b[0m \u001b[0mstatic\u001b[0m \u001b[0mbuffer\u001b[0m\u001b[1;33m\u001b[0m\u001b[0m\n\u001b[0;32m     14\u001b[0m         \"\"\"\n\u001b[1;32m---> 15\u001b[1;33m         \u001b[1;32massert\u001b[0m  \u001b[0mn\u001b[0m \u001b[1;33m>=\u001b[0m \u001b[1;36m0\u001b[0m\u001b[1;33m,\u001b[0m \u001b[1;34m\"Fibonacci not defined for n < 0.\"\u001b[0m\u001b[1;33m\u001b[0m\u001b[0m\n\u001b[0m\u001b[0;32m     16\u001b[0m         \u001b[1;32mif\u001b[0m \u001b[0mn\u001b[0m\u001b[1;33m>\u001b[0m\u001b[0mFib\u001b[0m\u001b[1;33m.\u001b[0m\u001b[0mBIG_NUM\u001b[0m\u001b[1;33m-\u001b[0m\u001b[1;36m1\u001b[0m\u001b[1;33m:\u001b[0m\u001b[1;33m\u001b[0m\u001b[0m\n\u001b[0;32m     17\u001b[0m             \u001b[0mNEW_ARRAY\u001b[0m \u001b[1;33m=\u001b[0m \u001b[1;33m[\u001b[0m\u001b[1;33m-\u001b[0m\u001b[1;36m1\u001b[0m\u001b[1;33m]\u001b[0m \u001b[1;33m*\u001b[0m \u001b[0mFib\u001b[0m\u001b[1;33m.\u001b[0m\u001b[0mBIG_NUM\u001b[0m \u001b[1;33m*\u001b[0m \u001b[1;36m2\u001b[0m\u001b[1;33m\u001b[0m\u001b[0m\n",
      "\u001b[1;31mAssertionError\u001b[0m: Fibonacci not defined for n < 0."
     ]
    }
   ],
   "source": [
    "\n",
    "class Fib(object):\n",
    "    \n",
    "    BIG_NUM = 100\n",
    "    STATIC_ARRAY = [-1] * BIG_NUM\n",
    "    STATIC_ARRAY[0] = 0\n",
    "    STATIC_ARRAY[1] = 1\n",
    "    BIGGEST_COMPUTED = 1\n",
    "\n",
    "    @staticmethod\n",
    "    def fib3(n):\n",
    "        \"\"\"\n",
    "        dynamic programming version with static buffer\n",
    "        \"\"\"\n",
    "        assert  n >= 0, \"Fibonacci not defined for n < 0.\"\n",
    "        if n>Fib.BIG_NUM-1:\n",
    "            NEW_ARRAY = [-1] * Fib.BIG_NUM * 2\n",
    "            for i in range(Fib.BIG_NUM):\n",
    "                NEW_ARRAY[i] = Fib.STATIC_ARRAY[i]\n",
    "            Fib.STATIC_ARRAY = NEW_ARRAY\n",
    "            Fib.BIG_NUM = Fib.BIG_NUM * 2\n",
    "        if Fib.STATIC_ARRAY[n] != -1: # already computed\n",
    "            return Fib.STATIC_ARRAY[n]\n",
    "        else:\n",
    "            for i in range((Fib.BIGGEST_COMPUTED+1), n+1):\n",
    "                Fib.STATIC_ARRAY[i] = Fib.STATIC_ARRAY[i-1] + Fib.STATIC_ARRAY[i-2]\n",
    "            Fib.BIGGEST_COMPUTED = n\n",
    "            return Fib.STATIC_ARRAY[n]\n",
    "            \n",
    "print Fib.fib3(0)\n",
    "print Fib.fib3(1)\n",
    "print Fib.fib3(2)\n",
    "print Fib.fib3(3)\n",
    "print Fib.fib3(4)\n",
    "print Fib.fib3(6)\n",
    "print Fib.fib3(7)\n",
    "print Fib.fib3(8)\n",
    "print Fib.fib3(9)\n",
    "print Fib.fib3(99)\n",
    "print Fib.fib3(101)\n",
    "print Fib.fib3(-1)\n",
    "            "
   ]
  },
  {
   "cell_type": "code",
   "execution_count": null,
   "metadata": {
    "collapsed": true
   },
   "outputs": [],
   "source": []
  }
 ],
 "metadata": {
  "kernelspec": {
   "display_name": "Python 2",
   "language": "python",
   "name": "python2"
  },
  "language_info": {
   "codemirror_mode": {
    "name": "ipython",
    "version": 2
   },
   "file_extension": ".py",
   "mimetype": "text/x-python",
   "name": "python",
   "nbconvert_exporter": "python",
   "pygments_lexer": "ipython2",
   "version": "2.7.10"
  }
 },
 "nbformat": 4,
 "nbformat_minor": 0
}
