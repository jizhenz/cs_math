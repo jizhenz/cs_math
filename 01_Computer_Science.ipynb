{
 "cells": [
  {
   "cell_type": "markdown",
   "metadata": {},
   "source": [
    "# Computer Science"
   ]
  },
  {
   "cell_type": "markdown",
   "metadata": {},
   "source": [
    "@wikipedia - [Outline: Computing](https://en.wikipedia.org/wiki/Outline_of_computing)\n",
    "\n",
    "@wikipedia - [Outline: Computer Science](https://en.wikipedia.org/wiki/Outline_of_computer_science)\n",
    "\n",
    "@wikibooks - [Subject: Computing](https://en.wikibooks.org/wiki/Subject:Computing)\n",
    "\n",
    "@wikibooks - [Category: Computer Science](https://en.wikibooks.org/wiki/Category:Computer_science)\n",
    "\n"
   ]
  },
  {
   "cell_type": "code",
   "execution_count": null,
   "metadata": {
    "collapsed": true
   },
   "outputs": [],
   "source": []
  }
 ],
 "metadata": {
  "kernelspec": {
   "display_name": "Python 2",
   "language": "python",
   "name": "python2"
  },
  "language_info": {
   "codemirror_mode": {
    "name": "ipython",
    "version": 2
   },
   "file_extension": ".py",
   "mimetype": "text/x-python",
   "name": "python",
   "nbconvert_exporter": "python",
   "pygments_lexer": "ipython2",
   "version": "2.7.10"
  }
 },
 "nbformat": 4,
 "nbformat_minor": 0
}
