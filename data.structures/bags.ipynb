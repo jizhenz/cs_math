{
 "cells": [
  {
   "cell_type": "markdown",
   "metadata": {},
   "source": [
    "### Bag\n",
    "\n",
    "@[reference]: Data Structures and Algorithms Using Python, Rance D. Necaise, 2010, Section 1.3 - 1.4\n",
    "\n"
   ]
  },
  {
   "cell_type": "code",
   "execution_count": 28,
   "metadata": {
    "collapsed": true
   },
   "outputs": [],
   "source": [
    "class  _BagIterator(object):\n",
    "    \"\"\" An iterator for the Bag ADT implemented as a Python list . \n",
    "        must implement __iter__() and next()\n",
    "    \"\"\"\n",
    "    def  __init__( self, theList ):\n",
    "        self._bagItems = theList\n",
    "        self._curItem = 0\n",
    "        \n",
    "    def  __iter__( self ):\n",
    "        return  self\n",
    "    \n",
    "    def  next( self ):\n",
    "        if  self._curItem < len( self._bagItems ) :\n",
    "            item = self._bagItems[ self._curItem ]\n",
    "            self._curItem += 1\n",
    "            return  item\n",
    "        else  :\n",
    "            raise  StopIteration"
   ]
  },
  {
   "cell_type": "code",
   "execution_count": 33,
   "metadata": {
    "collapsed": false
   },
   "outputs": [],
   "source": [
    "class  Bag(object):\n",
    "    \"\"\" Implements the Bag ADT container using a Python list . \"\"\"\n",
    "    \n",
    "    def  __init__( self ):\n",
    "        \"\"\" Constructs an empty bag . \"\"\"\n",
    "        self._theItems = list()\n",
    "        \n",
    "    def  __len__( self ):\n",
    "        \"\"\" Returns the number of items in the bag . \"\"\"\n",
    "        return  len( self._theItems )\n",
    "\n",
    "    def  __contains__( self, item ):\n",
    "        \"\"\" Determines if an item is contained in the bag . \"\"\"\n",
    "        return  item in  self._theItems\n",
    "\n",
    "    def  add( self, item ):\n",
    "        \"\"\" Adds a new item to the bag . \"\"\"\n",
    "        self._theItems.append( item )\n",
    "            \n",
    "    def  remove( self, item ):\n",
    "        \"\"\" Removes and returns an instance of the item from the bag . \"\"\"\n",
    "        assert  item in  self._theItems, \"The item must be in the bag. \"\n",
    "        ndx = self._theItems.index( item )\n",
    "        return  self._theItems.pop( ndx )\n",
    "\n",
    "    def  __iter__( self ):\n",
    "        \"\"\" Returns an iterator for traversing the list of items . \"\"\"\n",
    "        return _BagIterator(self._theItems)"
   ]
  },
  {
   "cell_type": "code",
   "execution_count": 34,
   "metadata": {
    "collapsed": true
   },
   "outputs": [],
   "source": [
    "myBag = Bag()\n",
    "myBag.add( 19 )\n",
    "myBag.add( 74 )\n",
    "myBag.add( 23 )\n",
    "myBag.add( 19 )\n",
    "myBag.add( 12 )"
   ]
  },
  {
   "cell_type": "code",
   "execution_count": 38,
   "metadata": {
    "collapsed": false
   },
   "outputs": [
    {
     "name": "stdout",
     "output_type": "stream",
     "text": [
      "Guess a value contained in the bag .19\n",
      "('The bag contains the value', 19)\n"
     ]
    }
   ],
   "source": [
    "value = int( raw_input(\"Guess a value contained in the bag .\") )\n",
    "if  value in  myBag:\n",
    "    print ( \"The bag contains the value\", value  )\n",
    "else  :\n",
    "    print ( \"The bag does not contain the value\", value  )"
   ]
  },
  {
   "cell_type": "code",
   "execution_count": 35,
   "metadata": {
    "collapsed": false
   },
   "outputs": [
    {
     "name": "stdout",
     "output_type": "stream",
     "text": [
      "19\n",
      "74\n",
      "23\n",
      "19\n",
      "12\n"
     ]
    }
   ],
   "source": [
    "for item in myBag:\n",
    "    print item"
   ]
  },
  {
   "cell_type": "code",
   "execution_count": 37,
   "metadata": {
    "collapsed": false
   },
   "outputs": [
    {
     "name": "stdout",
     "output_type": "stream",
     "text": [
      "19\n",
      "74\n",
      "23\n",
      "19\n",
      "12\n"
     ]
    }
   ],
   "source": [
    "\"\"\"\n",
    "    below shows how iteration works\n",
    "\"\"\"\n",
    "# Create a BagIterator object for myBag .\n",
    "iterator = myBag.__iter__()\n",
    "\n",
    "# Repeat the while loop until break is called .\n",
    "while  True :\n",
    "    try :\n",
    "        # Get the next item from the bag. If there are no \n",
    "        # more items, the StopIteration exception is raised .\n",
    "        item = iterator.next()\n",
    "        # Perform the body of the for loop .\n",
    "        print item\n",
    "        \n",
    "    # Catch the exception and break from the loop when we are done .\n",
    "    except  StopIteration:\n",
    "        break "
   ]
  },
  {
   "cell_type": "code",
   "execution_count": null,
   "metadata": {
    "collapsed": true
   },
   "outputs": [],
   "source": []
  }
 ],
 "metadata": {
  "kernelspec": {
   "display_name": "Python 2",
   "language": "python",
   "name": "python2"
  },
  "language_info": {
   "codemirror_mode": {
    "name": "ipython",
    "version": 2
   },
   "file_extension": ".py",
   "mimetype": "text/x-python",
   "name": "python",
   "nbconvert_exporter": "python",
   "pygments_lexer": "ipython2",
   "version": "2.7.10"
  }
 },
 "nbformat": 4,
 "nbformat_minor": 0
}
