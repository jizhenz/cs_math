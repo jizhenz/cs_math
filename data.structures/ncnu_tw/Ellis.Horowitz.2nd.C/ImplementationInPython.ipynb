{
 "cells": [
  {
   "cell_type": "markdown",
   "metadata": {},
   "source": [
    "## 001 - Insertion Sort"
   ]
  },
  {
   "cell_type": "code",
   "execution_count": 2,
   "metadata": {
    "collapsed": false
   },
   "outputs": [
    {
     "name": "stdout",
     "output_type": "stream",
     "text": [
      "[2, 3, 5, 6, 8, 9]\n"
     ]
    }
   ],
   "source": [
    "def InsertionSort(a):\n",
    "    for i in range(1,len(a)):\n",
    "        # insert a[i] into a[0:i-1]\n",
    "        t = a[i]\n",
    "        j=i-1\n",
    "        while j>=0 and t<a[j]:\n",
    "            a[j+1]=a[j]\n",
    "            j -= 1\n",
    "        a[j+1]=t\n",
    "    return a\n",
    "\n",
    "print InsertionSort([3,6,5,8,2,9])"
   ]
  },
  {
   "cell_type": "markdown",
   "metadata": {},
   "source": [
    "## 002 - Sparse Matrix\n",
    "Original: http://programming.im.ncnu.edu.tw/D_index.html\n",
    "- Purpose: implementation of integer Sparse Matrix, includes operations such add, transpose, multiply\n",
    "- Implement as array etc"
   ]
  },
  {
   "cell_type": "code",
   "execution_count": 13,
   "metadata": {
    "collapsed": false
   },
   "outputs": [
    {
     "name": "stdout",
     "output_type": "stream",
     "text": [
      "11111111111111111111\n",
      "<type 'exceptions.Exception'>\n",
      "Not implemented!\n",
      "<traceback object at 0x0000000003D6E748>\n",
      "Not implemented!\n",
      "22222222222222222222\n",
      "<type 'exceptions.Exception'>\n",
      "Not implemented!\n",
      "<traceback object at 0x0000000003D6E688>\n",
      "Not implemented!\n",
      "33333333333333333333\n",
      "<type 'exceptions.Exception'>\n",
      "Not implemented!\n",
      "<traceback object at 0x0000000003D6E748>\n",
      "Not implemented!\n",
      "44444444444444444444\n",
      "<type 'exceptions.Exception'>\n",
      "Not implemented!\n",
      "<traceback object at 0x0000000003D6E688>\n",
      "Not implemented!\n"
     ]
    }
   ],
   "source": [
    "class SparseMatrix(object):\n",
    "    def __init__(self, row, col):\n",
    "        self.row=row\n",
    "        self.col=col\n",
    "        self.data = {}\n",
    "    def addData(self, r, c, val):\n",
    "        raise Exception('Not implemented!')\n",
    "    def add(self,anotherSparseMatrix):\n",
    "        raise Exception('Not implemented!')\n",
    "    def transpose(self):\n",
    "        raise Exception('Not implemented!')\n",
    "    def multiply(self,anotherSparseMatrix):\n",
    "        raise Exception('Not implemented!')\n",
    "    def __str__(self):\n",
    "        raise Exception('Not implemented!')\n",
    "    def __enter__(self):\n",
    "        return self\n",
    "    def __exit__(self, type, value, traceback):\n",
    "        pass\n",
    "\n",
    "def testSparkMatrix(testID):\n",
    "    if 1==testID:\n",
    "        try:\n",
    "            print '1' * 20\n",
    "            with SparseMatrix(3,3) as sm:\n",
    "                sm.addData(2,2,33)\n",
    "        except Exception as e:\n",
    "            print e\n",
    "    if 2==testID:\n",
    "        try:\n",
    "            print '2' * 20\n",
    "            with SparseMatrix(3,3) as sm:\n",
    "                sm.add(SparseMatrix(3,3))\n",
    "        except Exception as e:\n",
    "            print e\n",
    "    if 3==testID:\n",
    "        try:\n",
    "            print '3' * 20\n",
    "            with SparseMatrix(3,3) as sm:\n",
    "                sm.transpose()\n",
    "        except Exception as e:\n",
    "            print e\n",
    "    if 4==testID:\n",
    "        try:\n",
    "            print '4' * 20\n",
    "            with SparseMatrix(3,3) as sm:\n",
    "                sm.multiply(SparseMatrix(3,3))\n",
    "        except Exception as e:\n",
    "            print e\n",
    "        \n",
    "testSparkMatrix(1)\n",
    "testSparkMatrix(2)\n",
    "testSparkMatrix(3)\n",
    "testSparkMatrix(4)\n",
    "\n",
    "class DictSparseMatrix(SparseMatrix):\n",
    "    def __init__(self, row, col):\n",
    "        super(ArraySparseMatrix, self).__init__(row, col)\n",
    "\n",
    "    def addData(self, r, c, val):\n",
    "        self.data[r*c] = val\n",
    "        \n",
    "    def add(self,anotherSparseMatrix):\n",
    "        raise Exception('Not implemented!')\n",
    "    def transpose(self):\n",
    "        raise Exception('Not implemented!')\n",
    "    def multiply(self,anotherSparseMatrix):\n",
    "        raise Exception('Not implemented!')\n",
    "    def __str__(self):\n",
    "        raise Exception('Not implemented!')\n",
    "    def __enter__(self):\n",
    "        return self\n",
    "    def __exit__(self, type, value, traceback):\n",
    "        pass"
   ]
  },
  {
   "cell_type": "code",
   "execution_count": 18,
   "metadata": {
    "collapsed": false
   },
   "outputs": [
    {
     "name": "stdout",
     "output_type": "stream",
     "text": [
      "{(1, 2): 2, (1, 1): 1}\n",
      "1\n",
      "2\n"
     ]
    }
   ],
   "source": [
    "data = {}\n",
    "data[(1,1)]=1\n",
    "data[(1,2)]=2\n",
    "print data\n",
    "print data[(1,1)]\n",
    "print data[(1,2)]"
   ]
  },
  {
   "cell_type": "code",
   "execution_count": null,
   "metadata": {
    "collapsed": true
   },
   "outputs": [],
   "source": []
  }
 ],
 "metadata": {
  "kernelspec": {
   "display_name": "Python 2",
   "language": "python",
   "name": "python2"
  },
  "language_info": {
   "codemirror_mode": {
    "name": "ipython",
    "version": 2
   },
   "file_extension": ".py",
   "mimetype": "text/x-python",
   "name": "python",
   "nbconvert_exporter": "python",
   "pygments_lexer": "ipython2",
   "version": "2.7.10"
  }
 },
 "nbformat": 4,
 "nbformat_minor": 0
}
