{
 "cells": [
  {
   "cell_type": "markdown",
   "metadata": {},
   "source": [
    "## Bubble Sort\n",
    "\n",
    "@[wikipedia](https://en.wikipedia.org/wiki/Bubble_sort)\n",
    "\n",
    "Check out the resources below for a review of Bubble sort!\n",
    "\n",
    "* [Wikipedia](https://en.wikipedia.org/wiki/Bubble_sort)\n",
    "* [Visual Algo](http://visualgo.net/sorting.html)\n",
    "* [Animation](http://www.cs.armstrong.edu/liang/animation/web/BubbleSort.html)\n",
    "* [Sorting Algorithms Animcation with Pseudocode](http://www.sorting-algorithms.com/bubble-sort)\n",
    "\n",
    "Example:\n",
    "\n",
    "First Pass\n",
    "- ( 5 1 4 2 8 ) -> ( 1 5 4 2 8 ), Here, algorithm compares the first two elements, and swaps since 5 > 1.\n",
    "- ( 1 5 4 2 8 ) -> ( 1 4 5 2 8 ), Swap since 5 > 4\n",
    "- ( 1 4 5 2 8 ) -> ( 1 4 2 5 8 ), Swap since 5 > 2\n",
    "- ( 1 4 2 5 8 ) -> ( 1 4 2 5 8 ), Now, since these elements are already in order (8 > 5), algorithm does not swap them.\n",
    "\n",
    "Second Pass\n",
    "- ( 1 4 2 5 8 ) -> ( 1 4 2 5 8 )\n",
    "- ( 1 4 2 5 8 ) -> ( 1 2 4 5 8 ), Swap since 4 > 2\n",
    "- ( 1 2 4 5 8 ) -> ( 1 2 4 5 8 )\n",
    "- ( 1 2 4 5 8 ) -> ( 1 2 4 5 8 )\n",
    "\n",
    "Now, the array is already sorted, but the algorithm does not know if it is completed. The algorithm needs one whole pass without any swap to know it is sorted.\n",
    "\n",
    "Third Pass\n",
    "- ( 1 2 4 5 8 ) -> ( 1 2 4 5 8 )\n",
    "- ( 1 2 4 5 8 ) -> ( 1 2 4 5 8 )\n",
    "- ( 1 2 4 5 8 ) -> ( 1 2 4 5 8 )\n",
    "- ( 1 2 4 5 8 ) -> ( 1 2 4 5 8 )\n"
   ]
  },
  {
   "cell_type": "code",
   "execution_count": 22,
   "metadata": {
    "collapsed": false
   },
   "outputs": [
    {
     "name": "stdout",
     "output_type": "stream",
     "text": [
      "6 [1, 2, 3, 8, 44, 67, 4]\n",
      "5 [1, 2, 3, 8, 44, 4, 67]\n",
      "4 [1, 2, 3, 8, 4, 44, 67]\n",
      "3 [1, 2, 3, 4, 8, 44, 67]\n",
      "2 [1, 2, 3, 4, 8, 44, 67]\n",
      "1 [1, 2, 3, 4, 8, 44, 67]\n",
      "6 [1, 2, 3, 4, 8, 44, 67]\n",
      "5 [1, 2, 3, 4, 8, 44, 67]\n",
      "4 [1, 2, 3, 4, 8, 44, 67]\n",
      "3 [1, 2, 3, 4, 8, 44, 67]\n",
      "2 [1, 2, 3, 4, 8, 44, 67]\n",
      "1 [1, 2, 3, 4, 8, 44, 67]\n"
     ]
    },
    {
     "data": {
      "text/plain": [
       "[1, 2, 3, 4, 8, 44, 67]"
      ]
     },
     "execution_count": 22,
     "metadata": {},
     "output_type": "execute_result"
    }
   ],
   "source": [
    "\"\"\"\n",
    "Best    n^2\n",
    "Average n^2\n",
    "Worst   n^2\n",
    "Space   1\n",
    "Stable  Yes\n",
    "Method  Exchange\n",
    "\"\"\"\n",
    "def BubbleSort(arr):\n",
    "    for n in range(len(arr)-1, 0, -1):\n",
    "        print n, arr\n",
    "        for k in range(n):\n",
    "            if arr[k]>arr[k+1]:\n",
    "                arr[k], arr[k+1] = arr[k+1], arr[k]\n",
    "                \n",
    "a = [1,2,3,8,44,67,4]\n",
    "BubbleSort(a)\n",
    "a\n",
    "BubbleSort(a)\n",
    "a"
   ]
  },
  {
   "cell_type": "code",
   "execution_count": 21,
   "metadata": {
    "collapsed": false
   },
   "outputs": [
    {
     "name": "stdout",
     "output_type": "stream",
     "text": [
      "6 [1, 2, 3, 8, 44, 67, 4]\n",
      "6 [1, 2, 3, 8, 44, 4, 67]\n",
      "6 [1, 2, 3, 8, 4, 44, 67]\n",
      "6 [1, 2, 3, 4, 8, 44, 67]\n",
      "6 [1, 2, 3, 4, 8, 44, 67]\n"
     ]
    },
    {
     "data": {
      "text/plain": [
       "[1, 2, 3, 4, 8, 44, 67]"
      ]
     },
     "execution_count": 21,
     "metadata": {},
     "output_type": "execute_result"
    }
   ],
   "source": [
    "\"\"\"\n",
    "Best    n\n",
    "Average n^2\n",
    "Worst   n^2\n",
    "Space   1\n",
    "Stable  Yes\n",
    "Method  Exchange\n",
    "\"\"\"\n",
    "def BubbleSort2(arr):\n",
    "    swapped = True\n",
    "    n = len(arr)-1\n",
    "    while swapped:\n",
    "        print n, arr\n",
    "        swapped = False\n",
    "        for k in range(n):\n",
    "            if arr[k]>arr[k+1]:\n",
    "                arr[k], arr[k+1] = arr[k+1], arr[k]\n",
    "                swapped = True\n",
    "\n",
    "a = [1,2,3,8,44,67,4]\n",
    "BubbleSort2(a)\n",
    "a\n",
    "BubbleSort2(a)\n",
    "a"
   ]
  },
  {
   "cell_type": "code",
   "execution_count": 19,
   "metadata": {
    "collapsed": false
   },
   "outputs": [
    {
     "name": "stdout",
     "output_type": "stream",
     "text": [
      "6 [1, 2, 3, 8, 44, 67, 4]\n",
      "5 [1, 2, 3, 8, 44, 4, 67]\n",
      "4 [1, 2, 3, 8, 4, 44, 67]\n",
      "3 [1, 2, 3, 4, 8, 44, 67]\n",
      "6 [1, 2, 3, 4, 8, 44, 67]\n"
     ]
    },
    {
     "data": {
      "text/plain": [
       "[1, 2, 3, 4, 8, 44, 67]"
      ]
     },
     "execution_count": 19,
     "metadata": {},
     "output_type": "execute_result"
    }
   ],
   "source": [
    "\"\"\"\n",
    "Best    n\n",
    "Average n^2\n",
    "Worst   n^2\n",
    "Space   1\n",
    "Stable  Yes\n",
    "Method  Exchange\n",
    "\"\"\"\n",
    "def BubbleSortOptimized(arr):\n",
    "    swapped = True\n",
    "    n = len(arr)-1\n",
    "    while swapped:\n",
    "        print n, arr\n",
    "        swapped = False\n",
    "        for k in range(n):\n",
    "            if arr[k]>arr[k+1]:\n",
    "                arr[k], arr[k+1] = arr[k+1], arr[k]\n",
    "                swapped = True\n",
    "        n = n-1\n",
    "                    \n",
    "a = [1,2,3,8,44,67,4]\n",
    "BubbleSortOptimized(a)\n",
    "a\n",
    "BubbleSortOptimized(a)\n",
    "a"
   ]
  }
 ],
 "metadata": {
  "kernelspec": {
   "display_name": "Python 2",
   "language": "python",
   "name": "python2"
  },
  "language_info": {
   "codemirror_mode": {
    "name": "ipython",
    "version": 2
   },
   "file_extension": ".py",
   "mimetype": "text/x-python",
   "name": "python",
   "nbconvert_exporter": "python",
   "pygments_lexer": "ipython2",
   "version": "2.7.10"
  }
 },
 "nbformat": 4,
 "nbformat_minor": 0
}
