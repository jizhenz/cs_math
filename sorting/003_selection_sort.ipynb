{
 "cells": [
  {
   "cell_type": "markdown",
   "metadata": {},
   "source": [
    "## Selection Sort\n",
    "\n",
    "- The selection sort improves on the bubble sort by making only ONE exchange for every pass through the list. \n",
    "- In order to do this, a selection sort looks for the largest value as it makes a pass and, after completing the pass, places it in the proper location. \n",
    "- As with a bubble sort, after the first pass, the largest item is in the correct place. After the second pass, the next largest is in place. \n",
    "- This process continues and requires n−1 passes to sort n items, since the final item must be in place after the (n−1) st pass.\n",
    "\n",
    "Check out the resources below for a review of Selection sort!\n",
    "\n",
    "* [Wikipedia](https://en.wikipedia.org/wiki/Selection_sort)\n",
    "* [Visual Algo](http://visualgo.net/sorting.html)\n",
    "* [Animation](http://cs.armstrong.edu/liang/animation/web/SelectionSort.html)\n",
    "* [Sorting Algorithms Animcation with Pseudocode](http://www.sorting-algorithms.com/selection-sort)\n",
    "\n",
    "Example:\n",
    "\n",
    "64 25 12 22 11 // this is the initial, starting state of the array\n",
    "\n",
    "11 25 12 22 64 // sorted sublist = {                64}\n",
    "\n",
    "11 22 12 25 64 // sorted sublist = {            25, 64}\n",
    "\n",
    "11 12 22 25 64 // sorted sublist = {        22, 25, 64}\n",
    "\n",
    "11 12 22 25 64 // sorted sublist = {    12, 22, 25, 64}\n",
    "\n",
    "11 12 22 25 64 // sorted sublist = {11, 12, 22, 25, 64}\n"
   ]
  },
  {
   "cell_type": "code",
   "execution_count": 3,
   "metadata": {
    "collapsed": false
   },
   "outputs": [
    {
     "name": "stdout",
     "output_type": "stream",
     "text": [
      "8 [3, 5, 2, 7, 6, 8, 12, 40, 21]\n",
      "7 [3, 5, 2, 7, 6, 8, 12, 21, 40]\n",
      "6 [3, 5, 2, 7, 6, 8, 12, 21, 40]\n",
      "5 [3, 5, 2, 7, 6, 8, 12, 21, 40]\n",
      "4 [3, 5, 2, 7, 6, 8, 12, 21, 40]\n",
      "3 [3, 5, 2, 6, 7, 8, 12, 21, 40]\n",
      "2 [3, 5, 2, 6, 7, 8, 12, 21, 40]\n",
      "1 [3, 2, 5, 6, 7, 8, 12, 21, 40]\n",
      "8 [2, 3, 5, 6, 7, 8, 12, 21, 40]\n",
      "7 [2, 3, 5, 6, 7, 8, 12, 21, 40]\n",
      "6 [2, 3, 5, 6, 7, 8, 12, 21, 40]\n",
      "5 [2, 3, 5, 6, 7, 8, 12, 21, 40]\n",
      "4 [2, 3, 5, 6, 7, 8, 12, 21, 40]\n",
      "3 [2, 3, 5, 6, 7, 8, 12, 21, 40]\n",
      "2 [2, 3, 5, 6, 7, 8, 12, 21, 40]\n",
      "1 [2, 3, 5, 6, 7, 8, 12, 21, 40]\n"
     ]
    },
    {
     "data": {
      "text/plain": [
       "[2, 3, 5, 6, 7, 8, 12, 21, 40]"
      ]
     },
     "execution_count": 3,
     "metadata": {},
     "output_type": "execute_result"
    }
   ],
   "source": [
    "\"\"\"\n",
    "Best    n^2\n",
    "Average n^2\n",
    "Worst   n^2\n",
    "Space   1\n",
    "Stable  No\n",
    "Method  Selection\n",
    "\"\"\"\n",
    "def SelectionSort(arr):\n",
    "    for n in range(len(arr)-1, 0, -1):\n",
    "        print n, arr\n",
    "        largest_pos = 0\n",
    "        for k in range(1,n+1):\n",
    "            if arr[k]>arr[largest_pos]:\n",
    "                largest_pos = k\n",
    "        arr[n], arr[largest_pos] = arr[largest_pos], arr[n]\n",
    "                \n",
    "a = [3,5,2,7,6,8,12,40,21]\n",
    "SelectionSort(a)\n",
    "a\n",
    "SelectionSort(a)\n",
    "a"
   ]
  },
  {
   "cell_type": "markdown",
   "metadata": {},
   "source": [
    "- Selection sort can be implemented as a stable sort. \n",
    "- If, rather than swapping, the maximum/minimum value is inserted into the last/first position (that is, all intervening items moved up/down), the algorithm is stable. \n",
    "- However, this modification either requires a data structure that supports efficient insertions or deletions, such as a linked list, or it leads to performing Θ(n2) writes."
   ]
  },
  {
   "cell_type": "code",
   "execution_count": null,
   "metadata": {
    "collapsed": true
   },
   "outputs": [],
   "source": []
  }
 ],
 "metadata": {
  "kernelspec": {
   "display_name": "Python 2",
   "language": "python",
   "name": "python2"
  },
  "language_info": {
   "codemirror_mode": {
    "name": "ipython",
    "version": 2
   },
   "file_extension": ".py",
   "mimetype": "text/x-python",
   "name": "python",
   "nbconvert_exporter": "python",
   "pygments_lexer": "ipython2",
   "version": "2.7.10"
  }
 },
 "nbformat": 4,
 "nbformat_minor": 0
}
