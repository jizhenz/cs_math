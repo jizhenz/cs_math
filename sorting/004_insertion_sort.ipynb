{
 "cells": [
  {
   "cell_type": "markdown",
   "metadata": {},
   "source": [
    "## Insertion Sort\n",
    "\n",
    "Insertion Sort builds the final sorted array (or list) one item at a time. It is much less efficient on large lists than more advanced algorithms such as quicksort, heapsort, or merge sort.\n",
    "\n",
    "Check out the resources below for a review of Insertion sort!\n",
    "\n",
    "* [Wikipedia](https://en.wikipedia.org/wiki/Insertion_sort)\n",
    "* [Visual Algo](http://visualgo.net/sorting.html)\n",
    "* [Animation](http://cs.armstrong.edu/liang/animation/web/InsertionSort.html)\n",
    "* [Sorting Algorithms Animcation with Pseudocode](http://www.sorting-algorithms.com/insertion-sort)\n",
    "\n"
   ]
  },
  {
   "cell_type": "code",
   "execution_count": 2,
   "metadata": {
    "collapsed": false
   },
   "outputs": [
    {
     "name": "stdout",
     "output_type": "stream",
     "text": [
      "[3, 5, 4, 6, 8, 1, 2, 12, 41, 25]\n",
      "[3, 4, 5, 6, 8, 1, 2, 12, 41, 25]\n",
      "[3, 4, 5, 6, 8, 1, 2, 12, 41, 25]\n",
      "[3, 4, 5, 6, 8, 1, 2, 12, 41, 25]\n",
      "[1, 3, 4, 5, 6, 8, 2, 12, 41, 25]\n",
      "[1, 2, 3, 4, 5, 6, 8, 12, 41, 25]\n",
      "[1, 2, 3, 4, 5, 6, 8, 12, 41, 25]\n",
      "[1, 2, 3, 4, 5, 6, 8, 12, 41, 25]\n",
      "[1, 2, 3, 4, 5, 6, 8, 12, 25, 41]\n"
     ]
    },
    {
     "data": {
      "text/plain": [
       "[1, 2, 3, 4, 5, 6, 8, 12, 25, 41]"
      ]
     },
     "execution_count": 2,
     "metadata": {},
     "output_type": "execute_result"
    }
   ],
   "source": [
    "\"\"\"\n",
    "Best    n^2\n",
    "Average n^2\n",
    "Worst   n^2\n",
    "Space   1\n",
    "Stable  Yes\n",
    "Method  Insertion\n",
    "\n",
    "for i ← 1 to length(A) - 1\n",
    "    j ← i\n",
    "    while j > 0 and A[j-1] > A[j]\n",
    "        swap A[j] and A[j-1]\n",
    "        j ← j - 1\n",
    "    end while\n",
    "end for\n",
    "\n",
    "\"\"\"\n",
    "def insertion_sort(arr):\n",
    "    for i in range(1,len(arr)):\n",
    "        j = i\n",
    "        while j>0 and arr[j-1]>arr[j]:\n",
    "            arr[j-1], arr[j] = arr[j], arr[j-1] # SWAP\n",
    "            j -= 1\n",
    "            \n",
    "        print arr\n",
    "            \n",
    "arr =[3,5,4,6,8,1,2,12,41,25]\n",
    "insertion_sort(arr)\n",
    "arr"
   ]
  },
  {
   "cell_type": "code",
   "execution_count": 8,
   "metadata": {
    "collapsed": false
   },
   "outputs": [
    {
     "name": "stdout",
     "output_type": "stream",
     "text": [
      "1 [3, 5, 4, 6, 8, 1, 2, 12, 41, 25]\n",
      "\n",
      "2 [3, 5, 4, 6, 8, 1, 2, 12, 41, 25]\n",
      "1\n",
      "3 [3, 4, 5, 6, 8, 1, 2, 12, 41, 25]\n",
      "\n",
      "4 [3, 4, 5, 6, 8, 1, 2, 12, 41, 25]\n",
      "\n",
      "5 [3, 4, 5, 6, 8, 1, 2, 12, 41, 25]\n",
      "4 3 2 1 0\n",
      "6 [1, 3, 4, 5, 6, 8, 2, 12, 41, 25]\n",
      "5 4 3 2 1\n",
      "7 [1, 2, 3, 4, 5, 6, 8, 12, 41, 25]\n",
      "\n",
      "8 [1, 2, 3, 4, 5, 6, 8, 12, 41, 25]\n",
      "\n",
      "9 [1, 2, 3, 4, 5, 6, 8, 12, 41, 25]\n",
      "8\n",
      "1 [1, 2, 3, 4, 5, 6, 8, 12, 25, 41]\n",
      "\n",
      "2 [1, 2, 3, 4, 5, 6, 8, 12, 25, 41]\n",
      "\n",
      "3 [1, 2, 3, 4, 5, 6, 8, 12, 25, 41]\n",
      "\n",
      "4 [1, 2, 3, 4, 5, 6, 8, 12, 25, 41]\n",
      "\n",
      "5 [1, 2, 3, 4, 5, 6, 8, 12, 25, 41]\n",
      "\n",
      "6 [1, 2, 3, 4, 5, 6, 8, 12, 25, 41]\n",
      "\n",
      "7 [1, 2, 3, 4, 5, 6, 8, 12, 25, 41]\n",
      "\n",
      "8 [1, 2, 3, 4, 5, 6, 8, 12, 25, 41]\n",
      "\n",
      "9 [1, 2, 3, 4, 5, 6, 8, 12, 25, 41]\n",
      "\n"
     ]
    },
    {
     "data": {
      "text/plain": [
       "[1, 2, 3, 4, 5, 6, 8, 12, 25, 41]"
      ]
     },
     "execution_count": 8,
     "metadata": {},
     "output_type": "execute_result"
    }
   ],
   "source": [
    "\"\"\"\n",
    "Best    n\n",
    "Average n^2\n",
    "Worst   n^2\n",
    "Space   1\n",
    "Stable  Yes\n",
    "Method  Insertion\n",
    "\n",
    " for i = 1 to length(A) - 1\n",
    "    x = A[i]\n",
    "    j = i - 1\n",
    "    while j >= 0 and A[j] > x\n",
    "        A[j+1] = A[j]\n",
    "        j = j - 1\n",
    "    end while\n",
    "    A[j+1] = x\n",
    " end for\n",
    " \n",
    "\"\"\"\n",
    "def insertion_sort2(arr):\n",
    "    for i in range(1,len(arr)):\n",
    "        print i, arr\n",
    "        current = arr[i]\n",
    "        j = i        \n",
    "        while j>0 and arr[j-1]>current:\n",
    "            arr[j] = arr[j-1] # SHIFT\n",
    "            j -= 1\n",
    "            print j,\n",
    "        arr[j] = current\n",
    "        print\n",
    "        \n",
    "            \n",
    "arr =[3,5,4,6,8,1,2,12,41,25]\n",
    "insertion_sort2(arr)\n",
    "arr\n",
    "insertion_sort2(arr)\n",
    "arr"
   ]
  },
  {
   "cell_type": "code",
   "execution_count": null,
   "metadata": {
    "collapsed": true
   },
   "outputs": [],
   "source": []
  }
 ],
 "metadata": {
  "kernelspec": {
   "display_name": "Python 2",
   "language": "python",
   "name": "python2"
  },
  "language_info": {
   "codemirror_mode": {
    "name": "ipython",
    "version": 2
   },
   "file_extension": ".py",
   "mimetype": "text/x-python",
   "name": "python",
   "nbconvert_exporter": "python",
   "pygments_lexer": "ipython2",
   "version": "2.7.10"
  }
 },
 "nbformat": 4,
 "nbformat_minor": 0
}
