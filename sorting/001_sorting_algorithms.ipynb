{
 "cells": [
  {
   "cell_type": "markdown",
   "metadata": {},
   "source": [
    "# Sorting Algorithms"
   ]
  },
  {
   "cell_type": "markdown",
   "metadata": {},
   "source": [
    "@wikipedia - [Category: Sorting Algorithms](https://en.wikipedia.org/wiki/Category:Sorting_algorithms)\n",
    "\n",
    "@wikipedia - [Sorting Algorithm](https://en.wikipedia.org/wiki/Sorting_algorithm)"
   ]
  },
  {
   "cell_type": "markdown",
   "metadata": {},
   "source": [
    "### Definition \n",
    "\n",
    "@wikipedia\n",
    "\n",
    "A sorting algorithm is an algorithm that puts elements of a list in a certain order (e.g. numerical order or lexicographical order). More formally, the output must satisfy two conditions:\n",
    "\n",
    "- The output is in nondecreasing order (each element is no smaller than the previous element according to the desired total order);\n",
    "- The output is a permutation (reordering) of the input.\n",
    "\n",
    "Further, \n",
    "\n",
    "- the data is often taken to be in an array, which allows random access, \n",
    "- rather than a list, which only allows sequential access, \n",
    "- though often algorithms can be applied with suitable modification to either type of data."
   ]
  },
  {
   "cell_type": "markdown",
   "metadata": {},
   "source": [
    "### History\n",
    "\n",
    "- A great deal of research has been attracted since the dawn of computing for the sorting problem. \n",
    "- Quite a bunch of asymptotically optimal algorithms have been dicovered since the mid-20th century. \n",
    "- And useful new algorithms are still being invented, e.g. Timsort dating to 2002, and the Library Sort being first published in 2006."
   ]
  },
  {
   "cell_type": "markdown",
   "metadata": {},
   "source": [
    "### Classification\n",
    "\n",
    "- Based on computational complexity: e.g., for average complexity\n",
    "    - O(nlogn): most comparison based aorting algorithms\n",
    "    - O(n^2):   bubble sort\n",
    "    - O(n):     this is not possible in the average case for sequencial algorithms\n",
    "    - O(logn):  optimal parallel sorting is O(log n)\n",
    "    \n",
    "    \n",
    "- Based on Memory usage:\n",
    "    - O(1): some \"in-place\" sorting algorithms\n",
    "    - O(logn): sometimes O(log(n)) additional memory is also considered \"in-place\"\n",
    "    - O(n): e.g. Merge Sort\n",
    "\n",
    "\n",
    "- Based on whether or not they are recursive: \n",
    "    - recursive or non-recursive, or both (e.g., merge sort)\n",
    "\n",
    "\n",
    "- Based on Stability: stable sorting algorithms maintain the relative order of records with equal keys (i.e., values)\n",
    "\n",
    "\n",
    "- Based on whether or not they use comparison: \n",
    "    - a comparison sort examines the data only by comparing two elements with a comparison operator.\n",
    "\n",
    "\n",
    "- Based on general method used: \n",
    "    - insertion, exchange, selection, merging, etc. \n",
    "    - Exchange sorts include bubble sort and quicksort. \n",
    "    - Selection sorts include shaker sort and heapsort. \n",
    "\n",
    "\n",
    "- Based on whether the algorithm is serial or parallel\n",
    "    - we will focus on serial algorithms here\n",
    "\n",
    "\n",
    "- Based on adaptability: \n",
    "    - Whether or not the presortedness of the input affects the running time. \n",
    "    - Algorithms that take this into account are known to be adaptive."
   ]
  },
  {
   "cell_type": "markdown",
   "metadata": {},
   "source": [
    "### Comparison Based Sorting Algorithms\n",
    "\n"
   ]
  },
  {
   "cell_type": "markdown",
   "metadata": {},
   "source": [
    "##### Bubble Sort\n",
    "\n",
    "- Best:    n\n",
    "- Average: n^2\n",
    "- Worst:   n^2\n",
    "- Memory:  1\n",
    "- Stable:  Yes\n",
    "- Method:  Exchanging\n",
    "- Other notes: Tiny code size"
   ]
  },
  {
   "cell_type": "markdown",
   "metadata": {
    "collapsed": true
   },
   "source": [
    "##### Quick Sort\n",
    "\n",
    "- Best:    nlogn (variant n)\n",
    "- Average: nlogn\n",
    "- Worst:   n^2\n",
    "- Memory:  average: logn, worst: n; Sedgewick variation worst case: logn \n",
    "- Stable:  typical in-place sort is not stable; stable versions exist\n",
    "- Method:  Partitioning\n",
    "- Other notes: Quicksort is usually done in place with O(log n) stack space\n"
   ]
  },
  {
   "cell_type": "markdown",
   "metadata": {},
   "source": [
    "##### Merge Sort\n",
    "\n",
    "- Best:    nlogn\n",
    "- Average: nlogn\n",
    "- Worst:   nlogn\n",
    "- Memory:  n\n",
    "- Stable:  Yes\n",
    "- Method:  Merging\n",
    "- Other notes: Highly parallelizable (up to O(log n) using the Three Hungarians' Algorithm or, more practically, Cole's parallel merge sort) for processing large amounts of data.\n"
   ]
  },
  {
   "cell_type": "markdown",
   "metadata": {},
   "source": [
    "##### In-place Merge Sort\n",
    "\n",
    "- Best:    -\n",
    "- Average: -\n",
    "- Worst:   n(logn)^2\n",
    "- Memory:  1\n",
    "- Stable:  Yes\n",
    "- Method:  Merging\n",
    "- Other notes: Can be implemented as a stable sort based on stable in-place merging\n"
   ]
  },
  {
   "cell_type": "markdown",
   "metadata": {},
   "source": [
    "##### Heap Sort\n",
    "\n",
    "- Best:    nlogn\n",
    "- Average: nlogn\n",
    "- Worst:   nlogn\n",
    "- Memory:  1\n",
    "- Stable:  No\n",
    "- Method:  Selection\n",
    "- Other notes: \n"
   ]
  },
  {
   "cell_type": "markdown",
   "metadata": {},
   "source": [
    "##### Insertion Sort\n",
    "\n",
    "- Best:    n\n",
    "- Average: n^2\n",
    "- Worst:   n^2\n",
    "- Memory:  1\n",
    "- Stable:  Yes\n",
    "- Method:  Insertion\n",
    "- Other notes: O(n + d), in the worst case over sequences that have d inversions.\n"
   ]
  },
  {
   "cell_type": "markdown",
   "metadata": {},
   "source": [
    "##### Intro Sort\n",
    "\n",
    "- Best:    nlogn\n",
    "- Average: nlogn\n",
    "- Worst:   nlogn\n",
    "- Memory:  logn\n",
    "- Stable:  No\n",
    "- Method:  Partition and Selection\n",
    "- Other notes: Used in several C++ STL implementations"
   ]
  },
  {
   "cell_type": "markdown",
   "metadata": {},
   "source": [
    "##### Selection Sort\n",
    "\n",
    "- Best:    n^2\n",
    "- Average: n^2\n",
    "- Worst:   n^2\n",
    "- Memory:  1\n",
    "- Stable:  No\n",
    "- Method:  Selection\n",
    "- Other notes: Stable with O(n) extra space, for example using lists."
   ]
  },
  {
   "cell_type": "markdown",
   "metadata": {},
   "source": [
    "##### Tim Sort\n",
    "\n",
    "- Best:    n\n",
    "- Average: nlogn\n",
    "- Worst:   nlogn\n",
    "- Memory:  n\n",
    "- Stable:  Yes\n",
    "- Method:  Insertion & Merging\n",
    "- Other notes: Makes n comparisons when the data is already sorted or reverse sorted."
   ]
  },
  {
   "cell_type": "markdown",
   "metadata": {},
   "source": [
    "##### Tim Sort\n",
    "\n",
    "- Best:    n\n",
    "- Average: nlogn\n",
    "- Worst:   nlogn\n",
    "- Memory:  n\n",
    "- Stable:  Yes\n",
    "- Method:  Insertion & Merging\n",
    "- Other notes: Makes n comparisons when the data is already sorted or reverse sorted."
   ]
  },
  {
   "cell_type": "markdown",
   "metadata": {},
   "source": [
    "##### Cube Sort\n",
    "\n",
    "- Best:    n\n",
    "- Average: nlogn\n",
    "- Worst:   nlogn\n",
    "- Memory:  n\n",
    "- Stable:  Yes\n",
    "- Method:  Insertion\n",
    "- Other notes: Makes n comparisons when the data is already sorted or reverse sorted."
   ]
  },
  {
   "cell_type": "markdown",
   "metadata": {},
   "source": [
    "##### Shell Sort\n",
    "\n",
    "- Best:    n\n",
    "- Average: n(logn)^2 or n^(3/2)\n",
    "- Worst:   Depends on gap sequence; best known is $n \\log^2 n$\n",
    "- Memory:  1\n",
    "- Stable:  No\n",
    "- Method:  Insertion\n",
    "- Other notes: Small code size, no use of call stack, reasonably fast, useful where memory is at a premium such as embedded and older mainframe applications."
   ]
  },
  {
   "cell_type": "markdown",
   "metadata": {},
   "source": [
    "##### Binary Tree Sort\n",
    "\n",
    "- Best:    nlogn\n",
    "- Average: nlogn\n",
    "- Worst:   nlogn (balanced)\n",
    "- Memory:  n\n",
    "- Stable:  Yes\n",
    "- Method:  Insertion\n",
    "- Other notes: When using a self-balancing binary search tree."
   ]
  },
  {
   "cell_type": "markdown",
   "metadata": {},
   "source": [
    "##### Cycle Sort\n",
    "\n",
    "- Best:    n^2\n",
    "- Average: n^2\n",
    "- Worst:   n^2\n",
    "- Memory:  1\n",
    "- Stable:  No\n",
    "- Method:  Insertion\n",
    "- Other notes: in-place with theoretically optimal number of writes."
   ]
  },
  {
   "cell_type": "markdown",
   "metadata": {},
   "source": [
    "##### Library Sort\n",
    "\n",
    "- Best:    n\n",
    "- Average: nlogn\n",
    "- Worst:   n^2\n",
    "- Memory:  n\n",
    "- Stable:  Yes\n",
    "- Method:  Insertion\n",
    "- Other notes: "
   ]
  },
  {
   "cell_type": "markdown",
   "metadata": {},
   "source": [
    "##### Cycle Sort\n",
    "\n",
    "- Best:    n^2\n",
    "- Average: n^2\n",
    "- Worst:   n^2\n",
    "- Memory:  1\n",
    "- Stable:  No\n",
    "- Method:  Insertion\n",
    "- Other notes: in-place with theoretically optimal number of writes.\n"
   ]
  },
  {
   "cell_type": "markdown",
   "metadata": {},
   "source": [
    "##### Cycle Sort\n",
    "\n",
    "- Best:    n^2\n",
    "- Average: n^2\n",
    "- Worst:   n^2\n",
    "- Memory:  1\n",
    "- Stable:  No\n",
    "- Method:  Insertion\n",
    "- Other notes: in-place with theoretically optimal number of writes."
   ]
  },
  {
   "cell_type": "markdown",
   "metadata": {},
   "source": [
    "##### Cycle Sort\n",
    "\n",
    "- Best:    n^2\n",
    "- Average: n^2\n",
    "- Worst:   n^2\n",
    "- Memory:  1\n",
    "- Stable:  No\n",
    "- Method:  Insertion\n",
    "- Other notes: in-place with theoretically optimal number of writes."
   ]
  },
  {
   "cell_type": "code",
   "execution_count": null,
   "metadata": {
    "collapsed": true
   },
   "outputs": [],
   "source": []
  }
 ],
 "metadata": {
  "kernelspec": {
   "display_name": "Python 2",
   "language": "python",
   "name": "python2"
  },
  "language_info": {
   "codemirror_mode": {
    "name": "ipython",
    "version": 2
   },
   "file_extension": ".py",
   "mimetype": "text/x-python",
   "name": "python",
   "nbconvert_exporter": "python",
   "pygments_lexer": "ipython2",
   "version": "2.7.10"
  }
 },
 "nbformat": 4,
 "nbformat_minor": 0
}
