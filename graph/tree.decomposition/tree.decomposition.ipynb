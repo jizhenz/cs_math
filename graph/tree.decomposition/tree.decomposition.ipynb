{
 "cells": [
  {
   "cell_type": "markdown",
   "metadata": {},
   "source": [
    "# Graph Tree Decomposition"
   ]
  },
  {
   "cell_type": "markdown",
   "metadata": {},
   "source": [
    "- [Tree Decomposition @ Wikipedia](https://en.wikipedia.org/wiki/Tree_decomposition)\n",
    "    \n",
    "    In graph theory, a tree decomposition is a mapping of a graph into a tree that can be used to define the treewidth of the graph and speed up solving certain computational problems on the graph.\n",
    "    \n",
    "    This is a simple introduction, not very detailed description.\n",
    "    \n",
    "    \n",
    "- <a href=\"https://en.wikipedia.org/wiki/Decomposition_method_(constraint_satisfaction)\">Decomposition Method in Constraint Satisfaction</a>\n",
    "    \n",
    "    In constraint satisfaction, a decomposition method translates a constraint satisfaction problem into another constraint satisfaction problem that is binary and acyclic.\n",
    "    \n",
    "    This is closely related to graph decomposition.\n",
    "    \n",
    "    \n",
    "- [Junction Tree Algorithm](https://en.wikipedia.org/wiki/Junction_tree_algorithm)\n",
    "    \n",
    "    In essence, it entails performing belief propagation on a modified graph called a junction tree. The basic premise is to eliminate cycles by clustering them into single nodes."
   ]
  },
  {
   "cell_type": "code",
   "execution_count": null,
   "metadata": {
    "collapsed": true
   },
   "outputs": [],
   "source": []
  }
 ],
 "metadata": {
  "kernelspec": {
   "display_name": "Python 3",
   "language": "python",
   "name": "python3"
  },
  "language_info": {
   "codemirror_mode": {
    "name": "ipython",
    "version": 3
   },
   "file_extension": ".py",
   "mimetype": "text/x-python",
   "name": "python",
   "nbconvert_exporter": "python",
   "pygments_lexer": "ipython3",
   "version": "3.4.3"
  }
 },
 "nbformat": 4,
 "nbformat_minor": 0
}
