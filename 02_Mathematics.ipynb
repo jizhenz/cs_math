{
 "cells": [
  {
   "cell_type": "markdown",
   "metadata": {},
   "source": [
    "# Mathematics\n",
    "\n",
    "@wikipedia - [Portal: Mathematics and Logic](https://en.wikipedia.org/wiki/Portal:Contents/Mathematics_and_logic)\n",
    "\n",
    "@wikibooks - [Subject: Mathematics](https://en.wikibooks.org/wiki/Subject:Mathematics)"
   ]
  },
  {
   "cell_type": "code",
   "execution_count": null,
   "metadata": {
    "collapsed": true
   },
   "outputs": [],
   "source": []
  }
 ],
 "metadata": {
  "kernelspec": {
   "display_name": "Python 2",
   "language": "python",
   "name": "python2"
  },
  "language_info": {
   "codemirror_mode": {
    "name": "ipython",
    "version": 2
   },
   "file_extension": ".py",
   "mimetype": "text/x-python",
   "name": "python",
   "nbconvert_exporter": "python",
   "pygments_lexer": "ipython2",
   "version": "2.7.10"
  }
 },
 "nbformat": 4,
 "nbformat_minor": 0
}
